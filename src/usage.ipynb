{
 "cells": [
  {
   "cell_type": "code",
   "execution_count": 1,
   "metadata": {},
   "outputs": [
    {
     "name": "stderr",
     "output_type": "stream",
     "text": [
      "\u001b[36m\u001b[1m[ \u001b[22m\u001b[39m\u001b[36m\u001b[1mInfo: \u001b[22m\u001b[39mPrecompiling CHMMera [4c20a592-b4de-41d1-8706-b02f346981aa]\n"
     ]
    }
   ],
   "source": [
    "using CHMMera"
   ]
  },
  {
   "cell_type": "code",
   "execution_count": 2,
   "metadata": {},
   "outputs": [
    {
     "data": {
      "text/plain": [
       "2-element Vector{String}:\n",
       " \"ACGTACACCAAT\"\n",
       " \"ACCACCACCAGT\""
      ]
     },
     "execution_count": 2,
     "metadata": {},
     "output_type": "execute_result"
    }
   ],
   "source": [
    "refs = [\"ACGTACGTACGT\", \"ACCACCACCAAT\"]\n",
    "queries = [\"ACGTACACCAAT\", \"ACCACCACCAGT\"]"
   ]
  },
  {
   "cell_type": "code",
   "execution_count": 3,
   "metadata": {},
   "outputs": [
    {
     "name": "stdout",
     "output_type": "stream",
     "text": [
      "[0.9742923966587327, 0.00993445581409323]\n",
      "[0.9818151794359674, 0.014694596442435663]\n"
     ]
    },
    {
     "data": {
      "text/plain": [
       "2-element Vector{Float64}:\n",
       " 0.9742923966587327\n",
       " 0.00993445581409323"
      ]
     },
     "execution_count": 3,
     "metadata": {},
     "output_type": "execute_result"
    }
   ],
   "source": [
    "println(get_chimeraprobabilities(queries, refs))\n",
    "println(get_chimeraprobabilities(queries, refs, fast = false))"
   ]
  },
  {
   "cell_type": "code",
   "execution_count": 5,
   "metadata": {},
   "outputs": [
    {
     "name": "stdout",
     "output_type": "stream",
     "text": [
      "[[(5, 1, 2)], Tuple{Int64, Int64, Int64}[]]\n",
      "[[(6, 1, 2)], Tuple{Int64, Int64, Int64}[]]\n"
     ]
    }
   ],
   "source": [
    "println(get_path.(queries, (refs,)))\n",
    "println(get_path.(queries, (refs,), fast = false))"
   ]
  }
 ],
 "metadata": {
  "kernelspec": {
   "display_name": "Julia 1.7.2",
   "language": "julia",
   "name": "julia-1.7"
  },
  "language_info": {
   "file_extension": ".jl",
   "mimetype": "application/julia",
   "name": "julia",
   "version": "1.7.2"
  },
  "orig_nbformat": 4
 },
 "nbformat": 4,
 "nbformat_minor": 2
}
