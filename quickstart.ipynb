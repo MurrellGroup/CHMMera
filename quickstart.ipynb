{
 "cells": [
  {
   "attachments": {},
   "cell_type": "markdown",
   "metadata": {},
   "source": [
    "Installing CHMMera"
   ]
  },
  {
   "cell_type": "code",
   "execution_count": null,
   "metadata": {},
   "outputs": [],
   "source": [
    "using Pkg\n",
    "Pkg.add(url=\"https://github.com/MurrellGroup/CHMMera.jl\")"
   ]
  },
  {
   "attachments": {},
   "cell_type": "markdown",
   "metadata": {},
   "source": [
    "Example of using CHMMera"
   ]
  },
  {
   "cell_type": "code",
   "execution_count": null,
   "metadata": {},
   "outputs": [],
   "source": [
    "using CHMMera\n",
    "\n",
    "refs = [\"ACGTACGTACGT\", \"ACCACCACCAAT\"]\n",
    "queries = [\"ACGTACACCAAT\", \"ACCACCACCAGT\"]\n",
    "\n",
    "println(get_chimera_probabilities(queries, refs))\n",
    "println(get_chimera_probabilities(queries, refs, fast = false), \"\\n\")\n",
    "\n",
    "println([get_recombination_events(q, refs) for q in queries])\n",
    "println([get_recombination_events(q, refs, fast=false) for q in queries], \"\\n\")\n",
    "\n",
    "for (i, q) in enumerate(queries)\n",
    "    if length(get_recombination_events(q, refs)) > 0\n",
    "        println(\"Query \", i, \" probabilities of being at each site:\\n\", exp.(get_log_site_probabilities(q, refs))) # Observe that site 6 of Q1 is unsure.\n",
    "    else\n",
    "        println(\"Query \", i, \" - Not a chimera\")\n",
    "    end\n",
    "end"
   ]
  }
 ],
 "metadata": {
  "kernelspec": {
   "display_name": "Julia 1.7.2",
   "language": "julia",
   "name": "julia-1.7"
  },
  "language_info": {
   "file_extension": ".jl",
   "mimetype": "application/julia",
   "name": "julia",
   "version": "1.7.2"
  },
  "orig_nbformat": 4
 },
 "nbformat": 4,
 "nbformat_minor": 2
}
