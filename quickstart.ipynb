{
 "cells": [
  {
   "attachments": {},
   "cell_type": "markdown",
   "metadata": {},
   "source": [
    "Installing CHMMera"
   ]
  },
  {
   "cell_type": "code",
   "execution_count": null,
   "metadata": {},
   "outputs": [],
   "source": [
    "using Pkg\n",
    "Pkg.add(url=\"https://github.com/MurrellGroup/CHMMera\")"
   ]
  },
  {
   "attachments": {},
   "cell_type": "markdown",
   "metadata": {},
   "source": [
    "Example of using CHMMera"
   ]
  },
  {
   "cell_type": "code",
   "execution_count": 1,
   "metadata": {},
   "outputs": [
    {
     "name": "stdout",
     "output_type": "stream",
     "text": [
      "[0.9742923966587327, 0.00993445581409323]\n",
      "[0.9818151794359675, 0.014694596442435665]\n"
     ]
    },
    {
     "ename": "UndefVarError",
     "evalue": "UndefVarError: at not defined",
     "output_type": "error",
     "traceback": [
      "UndefVarError: at not defined\n",
      "\n",
      "Stacktrace:\n",
      " [1] viterbi(O::Vector{Int64}, hmm::CHMMera.ApproximateHMM)\n",
      "   @ CHMMera c:\\Users\\arons\\.julia\\dev\\CHMMera\\src\\algs.jl:109\n",
      " [2] findrecombinations\n",
      "   @ c:\\Users\\arons\\.julia\\dev\\CHMMera\\src\\algs.jl:126 [inlined]\n",
      " [3] get_recombination_events(query::Vector{Int64}, references::Vector{Vector{Int64}}; fast::Bool, prior_probability::Float64)\n",
      "   @ CHMMera c:\\Users\\arons\\.julia\\dev\\CHMMera\\src\\utils.jl:52\n",
      " [4] get_recombination_events(query::String, references::Vector{String}; fast::Bool, prior_probability::Float64)\n",
      "   @ CHMMera c:\\Users\\arons\\.julia\\dev\\CHMMera\\src\\utils.jl:60\n",
      " [5] get_recombination_events\n",
      "   @ c:\\Users\\arons\\.julia\\dev\\CHMMera\\src\\utils.jl:60 [inlined]\n",
      " [6] (::var\"#9#10\")(q::String)\n",
      "   @ Main .\\none:0\n",
      " [7] iterate\n",
      "   @ .\\generator.jl:47 [inlined]\n",
      " [8] collect(itr::Base.Generator{Vector{String}, var\"#9#10\"})\n",
      "   @ Base .\\array.jl:724\n",
      " [9] top-level scope\n",
      "   @ c:\\Users\\arons\\.julia\\dev\\CHMMera\\quickstart.ipynb:9"
     ]
    }
   ],
   "source": [
    "using CHMMera\n",
    "\n",
    "refs = [\"ACGTACGTACGT\", \"ACCACCACCAAT\"]\n",
    "queries = [\"ACGTACACCAAT\", \"ACCACCACCAGT\"]\n",
    "\n",
    "println(get_chimeraprobabilities(queries, refs))\n",
    "println(get_chimeraprobabilities(queries, refs, fast = false))\n",
    "\n",
    "println([get_recombination_events(q, refs) for q in queries])\n",
    "println([get_recombination_events(q, refs, fast=false) for q in queries])"
   ]
  }
 ],
 "metadata": {
  "kernelspec": {
   "display_name": "Julia 1.7.2",
   "language": "julia",
   "name": "julia-1.7"
  },
  "language_info": {
   "file_extension": ".jl",
   "mimetype": "application/julia",
   "name": "julia",
   "version": "1.7.2"
  },
  "orig_nbformat": 4
 },
 "nbformat": 4,
 "nbformat_minor": 2
}
